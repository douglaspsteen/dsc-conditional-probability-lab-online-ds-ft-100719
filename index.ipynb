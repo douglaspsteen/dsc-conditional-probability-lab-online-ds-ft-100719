{
 "cells": [
  {
   "cell_type": "markdown",
   "metadata": {},
   "source": [
    "# Conditional Probability - Lab\n",
    "\n",
    "## Introduction\n",
    "\n",
    "In order to be ready for real-world applications of probability, it is important to understand what happens when probabilities are not independent. Very often, the probability of a certain event depends on other events happening! Let's see how this all works in this lab.\n",
    "\n",
    "## Objectives\n",
    "\n",
    "You will be able to:\n",
    "\n",
    "* Differentiate between independent and dependent events\n",
    "* Use the multiplication rule to find the probability of the intersection of two events\n",
    "\n",
    "## Exercise 1\n",
    "A coin is tossed and a single 6-sided dice is rolled. Find the probability of landing on the head side of the coin and rolling a 3 on the dice."
   ]
  },
  {
   "cell_type": "code",
   "execution_count": 1,
   "metadata": {},
   "outputs": [
    {
     "name": "stdout",
     "output_type": "stream",
     "text": [
      "0.08333333333333333\n"
     ]
    }
   ],
   "source": [
    "# Your code here\n",
    "# These events are independent, therefore the probability of both happening is both probabilities multiplied\n",
    "p_dice_3 = 1/6\n",
    "p_heads = 1/2\n",
    "p_both = p_dice_3 * p_heads\n",
    "print(p_both)"
   ]
  },
  {
   "cell_type": "markdown",
   "metadata": {},
   "source": [
    "## Exercise 2\n",
    "\n",
    "\n",
    "After conducting a survey, one of the outcomes was that 8 out of 10 of the survey subjects liked chocolate chip cookies. If three survey subjects are chosen at random **with replacement**, what is the probability that all three like chocolate chip cookies?"
   ]
  },
  {
   "cell_type": "code",
   "execution_count": 2,
   "metadata": {},
   "outputs": [
    {
     "name": "stdout",
     "output_type": "stream",
     "text": [
      "0.5120000000000001\n"
     ]
    }
   ],
   "source": [
    "# Your code here\n",
    "# Since the outcome of each choice are not dependent, we just multiply the probability of one event together 3x\n",
    "p_like_cc = 8/10\n",
    "p_3_like_cc = p_like_cc * p_like_cc * p_like_cc\n",
    "print(p_3_like_cc)"
   ]
  },
  {
   "cell_type": "markdown",
   "metadata": {},
   "source": [
    "## Exercise 3\n",
    "70% of your friends like chocolate flavored ice cream, and 35% like chocolate AND like strawberry flavors.\n",
    "\n",
    "What percent of those who like chocolate also like strawberry?"
   ]
  },
  {
   "cell_type": "code",
   "execution_count": 4,
   "metadata": {},
   "outputs": [
    {
     "name": "stdout",
     "output_type": "stream",
     "text": [
      "0.5\n"
     ]
    }
   ],
   "source": [
    "# Your code here\n",
    "# P(S|C) = P(S & C)/P(C)\n",
    "p_c = .7\n",
    "p_s_a_c = .35\n",
    "p_s_g_c = p_s_a_c / p_c\n",
    "print(p_s_g_c)"
   ]
  },
  {
   "cell_type": "markdown",
   "metadata": {},
   "source": [
    "50% of your friends who like chocolate also like strawberry\n",
    "\n",
    "## Exercise 4\n",
    "What is the probability of drawing 2 consecutive aces from a deck of cards. "
   ]
  },
  {
   "cell_type": "code",
   "execution_count": 6,
   "metadata": {},
   "outputs": [
    {
     "name": "stdout",
     "output_type": "stream",
     "text": [
      "0.004524886877828055\n"
     ]
    }
   ],
   "source": [
    "# Your code here\n",
    "# F represents first ace, S represents second ace\n",
    "# Probaiblity of F is 4/52\n",
    "# However, after one card is removed, probability of S is 3/51\n",
    "p_F = 4/52\n",
    "p_S = 3/51\n",
    "p_F_S = p_F*p_S\n",
    "print(p_F_S)"
   ]
  },
  {
   "cell_type": "markdown",
   "metadata": {},
   "source": [
    "## Exercise 5\n",
    "In a manufacturing factory that produces a certain product, there are 100 units of the product, 5 of which are defective. We pick three units from the 100 units at random. \n",
    "\n",
    "What is the probability that none of them are defective?\n",
    "Hint: Use the chain rule here!"
   ]
  },
  {
   "cell_type": "code",
   "execution_count": 7,
   "metadata": {},
   "outputs": [
    {
     "name": "stdout",
     "output_type": "stream",
     "text": [
      "0.8559987631416203\n"
     ]
    }
   ],
   "source": [
    "# Your code here\n",
    "\n",
    "p_1 = 95/100 # probability of getting a good product on first pick\n",
    "p_2given1 = 94/99 # probability of getting a good product on second pick, given first pick was good\n",
    "p3_given2 = 93/98 # probability of getting good product on third pick, given second pick and first picks were good\n",
    "\n",
    "p_all3_good = p_1 * p_2given1 * p3_given2\n",
    "print(p_all3_good)"
   ]
  },
  {
   "cell_type": "markdown",
   "metadata": {},
   "source": [
    "## Exercise 6\n",
    "\n",
    "Let's consider the example where 2 dice are thrown. Given that **at least one** of the dice has come up on a number higher than 4, what is the probability that the sum is 8?\n",
    "\n",
    "Let $i,j$ be the numbers shown on the dice. The events $A$ and $B$ are described below:\n",
    "\n",
    "* **Event $A$ is when either $i$ or $j$ is 5 or 6** (keep an eye on either - or)\n",
    "* **Event $B$ is when $i + j = 8$**\n",
    "\n",
    "\n",
    "* What is the size of sample space $\\Omega$ ?\n",
    "* What is $P(A \\cap B)$ ?\n",
    "* What is $P(A)$ ?\n",
    "* Use above to calculate $P(B \\mid A)$"
   ]
  },
  {
   "cell_type": "code",
   "execution_count": 25,
   "metadata": {},
   "outputs": [
    {
     "name": "stdout",
     "output_type": "stream",
     "text": [
      "The size of the sample space is: 36\n",
      "The probability of A is: 0.5555555555555556\n",
      "The probability of B is: 0.1388888888888889\n",
      "The probability of B given A is: 0.19999999999999998\n"
     ]
    }
   ],
   "source": [
    "# Size of sample space omega \n",
    "# We have 6 possibilites for first dice, and 6 possiblities for second dice\n",
    "size_ss = 6 * 6\n",
    "print('The size of the sample space is:', size_ss)\n",
    "\n",
    "# p_A is the probability that we get a 5 or 6 for at least one dice\n",
    "# Will need to add the probability of either happening, subtract the probability of both happening\n",
    "p_ij = (2/6) * (2/6)\n",
    "p_A = (2/6) + (2/6) - (p_ij)\n",
    "print('The probability of A is:', p_A)\n",
    "\n",
    "# p_B probability of the sum of the two dice being equal to eight\n",
    "# All of the possibilities are 2, 3, 4, 5, 6, 7, 8, 9, 10, 11, 12\n",
    "# How many ways to get: 2? (1) 3? (2) 4? (3) 5? (4) 6? (5) 7? (6) 8? (5) 9? (4) 10? (3) 11? (2) 12? (1)\n",
    "\n",
    "p_B = 5/36\n",
    "\n",
    "print('The probability of B is:', p_B)\n",
    "\n",
    "p_AB = 4/36 # Since we cannot have 4,4 as an option, there are only 4 ways to get 8 from th 2 dice\n",
    "# The probability of P(B|A) = P(A & B)/P(A)\n",
    "\n",
    "p_BgivenA = (p_AB)/p_A\n",
    "print('The probability of B given A is:', p_BgivenA)"
   ]
  },
  {
   "cell_type": "markdown",
   "metadata": {},
   "source": [
    "## Exercise 7\n",
    "\n",
    "Let's consider a credit card example. At a supermarket, customers are selected randomly, the store owner recorded whether costumers owned a Visa card (event A) or an Amex credit card (event B). Some customers own both cards.\n",
    "You can assume that:\n",
    "\n",
    "- $P(A)$ = 0.5\n",
    "- $P(B)$ = 0.4\n",
    "- both $A$ and $B$ = 0.25.\n",
    "\n",
    "\n",
    "With the knowledge we have about conditional probabilities, compute and interpret the following probabilities:\n",
    "\n",
    "- $P(B \\mid A)$\n",
    "- $P(B' \\mid A)$\n",
    "- $P(A \\mid B)$\n",
    "- $P(A' \\mid B)$\n"
   ]
  },
  {
   "cell_type": "code",
   "execution_count": 31,
   "metadata": {},
   "outputs": [
    {
     "name": "stdout",
     "output_type": "stream",
     "text": [
      "The probability that a customer owns an amex given a visa is: 0.5\n",
      "The probability that a customer does not own an amex given a visa is: 0.5\n",
      "Probability of owning a visa given an amex is: 0.625\n",
      "Probability of not owning a visa given an amex is: 0.375\n"
     ]
    }
   ],
   "source": [
    "p_visa = 0.5 \n",
    "p_amex = 0.4\n",
    "p_visaamex = 0.25\n",
    "\n",
    "# Probability that a customer owns an amex given that they own a visa\n",
    "p_amex_given_visa = p_visaamex / p_visa\n",
    "print('The probability that a customer owns an amex given a visa is:', p_amex_given_visa)\n",
    "\n",
    "# Probability that a customer does not own an amex given that they own a visa\n",
    "p_noamex_given_visa = 1 - p_amex_given_visa \n",
    "print('The probability that a customer does not own an amex given a visa is:', p_noamex_given_visa)\n",
    "\n",
    "# Probability that a customer owns a visa given that they own an amex\n",
    "p_visa_given_amex = p_visaamex / p_amex\n",
    "print('Probability of owning a visa given an amex is:', p_visa_given_amex)\n",
    "\n",
    "# Probability that a customer does not own a visa given that they own an amex\n",
    "p_novisa_given_amex = 1 - p_visa_given_amex\n",
    "print('Probability of not owning a visa given an amex is:', p_novisa_given_amex)"
   ]
  },
  {
   "cell_type": "markdown",
   "metadata": {},
   "source": [
    "## Summary \n",
    "\n",
    "In this lab, you practiced conditional probability and its theorem with some simple problems. The key takeaway from this lab is to be able to identify random events as dependent or independent and calculating the probability of their occurrence using appropriate methods. Next, you'll learn about some more conditional probability axioms, building on the knowledge we have so far. "
   ]
  }
 ],
 "metadata": {
  "kernelspec": {
   "display_name": "learn-env",
   "language": "python",
   "name": "learn-env"
  },
  "language_info": {
   "codemirror_mode": {
    "name": "ipython",
    "version": 3
   },
   "file_extension": ".py",
   "mimetype": "text/x-python",
   "name": "python",
   "nbconvert_exporter": "python",
   "pygments_lexer": "ipython3",
   "version": "3.6.9"
  },
  "toc": {
   "base_numbering": 1,
   "nav_menu": {},
   "number_sections": true,
   "sideBar": true,
   "skip_h1_title": false,
   "title_cell": "Table of Contents",
   "title_sidebar": "Contents",
   "toc_cell": false,
   "toc_position": {},
   "toc_section_display": true,
   "toc_window_display": false
  },
  "varInspector": {
   "cols": {
    "lenName": 16,
    "lenType": 16,
    "lenVar": 40
   },
   "kernels_config": {
    "python": {
     "delete_cmd_postfix": "",
     "delete_cmd_prefix": "del ",
     "library": "var_list.py",
     "varRefreshCmd": "print(var_dic_list())"
    },
    "r": {
     "delete_cmd_postfix": ") ",
     "delete_cmd_prefix": "rm(",
     "library": "var_list.r",
     "varRefreshCmd": "cat(var_dic_list()) "
    }
   },
   "types_to_exclude": [
    "module",
    "function",
    "builtin_function_or_method",
    "instance",
    "_Feature"
   ],
   "window_display": false
  }
 },
 "nbformat": 4,
 "nbformat_minor": 2
}
